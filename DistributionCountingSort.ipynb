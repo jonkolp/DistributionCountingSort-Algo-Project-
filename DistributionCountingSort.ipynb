{
  "nbformat": 4,
  "nbformat_minor": 0,
  "metadata": {
    "colab": {
      "provenance": [],
      "authorship_tag": "ABX9TyNMjv6WvzBct3iJzYNisfcW",
      "include_colab_link": true
    },
    "kernelspec": {
      "name": "python3",
      "display_name": "Python 3"
    },
    "language_info": {
      "name": "python"
    }
  },
  "cells": [
    {
      "cell_type": "markdown",
      "metadata": {
        "id": "view-in-github",
        "colab_type": "text"
      },
      "source": [
        "<a href=\"https://colab.research.google.com/github/jonkolp/DistributionCountingSort-Algo-Project-/blob/main/DistributionCountingSort.ipynb\" target=\"_parent\"><img src=\"https://colab.research.google.com/assets/colab-badge.svg\" alt=\"Open In Colab\"/></a>"
      ]
    },
    {
      "cell_type": "code",
      "execution_count": null,
      "metadata": {
        "id": "xSJuBaHAGFiz"
      },
      "outputs": [],
      "source": [
        "def DistributionCountingSort(A, l, u):\n",
        "   n=len(A)\n",
        "   D=[0]*(u-l+1)\n",
        "   S=[0]*n\n",
        "\n",
        "   for j in range(u-l+1):\n",
        "     D[j]=0\n",
        "\n",
        "   for i in range(n):\n",
        "     D[A[i] - l] += 1\n",
        "\n",
        "   for j in range(1, u - l + 1):\n",
        "     D[j] += D[j - 1]\n",
        "\n",
        "   for i in range(n - 1, -1, -1):\n",
        "     j = A[i] - l\n",
        "     S[D[j] - 1] = A[i]\n",
        "     D[j] -= 1\n",
        "   return S"
      ]
    },
    {
      "cell_type": "code",
      "source": [
        "A=[6,1,1,3,2,4,5,5,1,2,3]\n",
        "l=min(A)\n",
        "u=max(A)\n",
        "print(DistributionCountingSort(A,l,u))"
      ],
      "metadata": {
        "colab": {
          "base_uri": "https://localhost:8080/"
        },
        "id": "kgT4ezZgT9Ff",
        "outputId": "5df92bbb-f14b-48e6-85ac-33f702fe6593"
      },
      "execution_count": null,
      "outputs": [
        {
          "output_type": "stream",
          "name": "stdout",
          "text": [
            "[1, 1, 1, 2, 2, 3, 3, 4, 5, 5, 6]\n"
          ]
        }
      ]
    }
  ]
}